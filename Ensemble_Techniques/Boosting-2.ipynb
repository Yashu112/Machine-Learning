{
 "cells": [
  {
   "cell_type": "markdown",
   "id": "5956c700-3e18-4abc-92e7-20a5ab0c0dec",
   "metadata": {},
   "source": [
    "# Boosting - 2 "
   ]
  },
  {
   "cell_type": "markdown",
   "id": "fc938637-acdb-426e-9a4c-73dd845ee7ce",
   "metadata": {},
   "source": []
  },
  {
   "cell_type": "markdown",
   "id": "b69695b3-1cad-4ca6-a949-6c649a839cb3",
   "metadata": {},
   "source": [
    "Q1. What is Gradient Boosting Regression?\n",
    "\n",
    "Ans. Gradient Boosting Regression is a machine learning technique used for regression tasks, where the goal is to predict a continuous numerical value, such as a price, temperature, or a score. It belongs to the ensemble learning methods, which means it combines the predictions of multiple base machine learning models to produce a more accurate and robust final prediction.\n",
    "\n",
    "Here's a brief overview of how Gradient Boosting Regression works:\n",
    "\n",
    "1. **Boosting:** Gradient Boosting is a boosting algorithm, which means it builds an ensemble of weak learners (typically decision trees) sequentially. Each new learner is trained to correct the errors made by the previous ones. This is in contrast to bagging techniques like Random Forests, where each learner is trained independently.\n",
    "\n",
    "2. **Gradient Descent:** The \"gradient\" in Gradient Boosting refers to the gradient of a loss function. In regression, the loss function is often mean squared error (MSE), which measures the average squared difference between the predicted and actual values. Gradient Boosting tries to minimize this loss by iteratively fitting new models to the negative gradient of the loss with respect to the previous predictions. This process gradually reduces the residual error.\n",
    "\n",
    "3. **Weak Learners:** In the context of Gradient Boosting Regression, the weak learners are typically shallow decision trees, often called \"stumps\" or \"shallow trees.\" These trees are usually simple and have a limited depth, often just a single split or a few splits.\n",
    "\n",
    "4. **Weighted Combination:** After each weak learner is trained, it is assigned a weight based on how much it contributes to reducing the loss function. The final prediction is a weighted combination of the predictions of all the weak learners. The weights ensure that more accurate models have a greater influence on the final prediction.\n"
   ]
  },
  {
   "cell_type": "markdown",
   "id": "287807c1-0139-45a8-81ba-ff32e9633546",
   "metadata": {},
   "source": []
  },
  {
   "cell_type": "markdown",
   "id": "eb55cb8c-5002-40da-b064-3c289010f4d1",
   "metadata": {},
   "source": [
    "Q2. Implement a simple gradient boosting algorithm from scratch using Python and NumPy. Use a\n",
    "simple regression problem as an example and train the model on a small dataset. Evaluate the model's\n",
    "performance using metrics such as mean squared error and R-squared."
   ]
  },
  {
   "cell_type": "code",
   "execution_count": 33,
   "id": "c06cd422-924d-4153-b38e-87dbbe1cde28",
   "metadata": {},
   "outputs": [
    {
     "data": {
      "text/html": [
       "<div>\n",
       "<style scoped>\n",
       "    .dataframe tbody tr th:only-of-type {\n",
       "        vertical-align: middle;\n",
       "    }\n",
       "\n",
       "    .dataframe tbody tr th {\n",
       "        vertical-align: top;\n",
       "    }\n",
       "\n",
       "    .dataframe thead th {\n",
       "        text-align: right;\n",
       "    }\n",
       "</style>\n",
       "<table border=\"1\" class=\"dataframe\">\n",
       "  <thead>\n",
       "    <tr style=\"text-align: right;\">\n",
       "      <th></th>\n",
       "      <th>X</th>\n",
       "      <th>y</th>\n",
       "    </tr>\n",
       "  </thead>\n",
       "  <tbody>\n",
       "    <tr>\n",
       "      <th>0</th>\n",
       "      <td>5.488135</td>\n",
       "      <td>9.811120</td>\n",
       "    </tr>\n",
       "    <tr>\n",
       "      <th>1</th>\n",
       "      <td>7.151894</td>\n",
       "      <td>15.204614</td>\n",
       "    </tr>\n",
       "    <tr>\n",
       "      <th>2</th>\n",
       "      <td>6.027634</td>\n",
       "      <td>12.520930</td>\n",
       "    </tr>\n",
       "    <tr>\n",
       "      <th>3</th>\n",
       "      <td>5.448832</td>\n",
       "      <td>9.361420</td>\n",
       "    </tr>\n",
       "    <tr>\n",
       "      <th>4</th>\n",
       "      <td>4.236548</td>\n",
       "      <td>9.961348</td>\n",
       "    </tr>\n",
       "    <tr>\n",
       "      <th>...</th>\n",
       "      <td>...</td>\n",
       "      <td>...</td>\n",
       "    </tr>\n",
       "    <tr>\n",
       "      <th>95</th>\n",
       "      <td>1.831914</td>\n",
       "      <td>4.345422</td>\n",
       "    </tr>\n",
       "    <tr>\n",
       "      <th>96</th>\n",
       "      <td>5.865129</td>\n",
       "      <td>10.926849</td>\n",
       "    </tr>\n",
       "    <tr>\n",
       "      <th>97</th>\n",
       "      <td>0.201075</td>\n",
       "      <td>-0.287399</td>\n",
       "    </tr>\n",
       "    <tr>\n",
       "      <th>98</th>\n",
       "      <td>8.289400</td>\n",
       "      <td>16.123268</td>\n",
       "    </tr>\n",
       "    <tr>\n",
       "      <th>99</th>\n",
       "      <td>0.046955</td>\n",
       "      <td>0.111389</td>\n",
       "    </tr>\n",
       "  </tbody>\n",
       "</table>\n",
       "<p>100 rows × 2 columns</p>\n",
       "</div>"
      ],
      "text/plain": [
       "           X          y\n",
       "0   5.488135   9.811120\n",
       "1   7.151894  15.204614\n",
       "2   6.027634  12.520930\n",
       "3   5.448832   9.361420\n",
       "4   4.236548   9.961348\n",
       "..       ...        ...\n",
       "95  1.831914   4.345422\n",
       "96  5.865129  10.926849\n",
       "97  0.201075  -0.287399\n",
       "98  8.289400  16.123268\n",
       "99  0.046955   0.111389\n",
       "\n",
       "[100 rows x 2 columns]"
      ]
     },
     "execution_count": 33,
     "metadata": {},
     "output_type": "execute_result"
    }
   ],
   "source": [
    "import numpy as np\n",
    "import pandas as pd\n",
    "from sklearn.tree import DecisionTreeRegressor\n",
    "from sklearn.metrics import mean_squared_error, r2_score\n",
    "\n",
    "# Generate a simple dataset\n",
    "np.random.seed(0)\n",
    "X = np.random.rand(100, 1) * 10\n",
    "y = 2 * X.squeeze() + np.random.randn(100)\n",
    "\n",
    "df=pd.DataFrame({'X':X.reshape(1,100)[0], 'y':y})\n",
    "df"
   ]
  },
  {
   "cell_type": "code",
   "execution_count": 35,
   "id": "fc1133a7-2d35-4c7a-a9b1-b29ca891097e",
   "metadata": {},
   "outputs": [
    {
     "data": {
      "text/plain": [
       "<matplotlib.collections.PathCollection at 0x7f19f829fdf0>"
      ]
     },
     "execution_count": 35,
     "metadata": {},
     "output_type": "execute_result"
    },
    {
     "data": {
      "image/png": "[encoded data removed]",
      "text/plain": [
       "<Figure size 640x480 with 1 Axes>"
      ]
     },
     "metadata": {},
     "output_type": "display_data"
    }
   ],
   "source": [
    "import matplotlib.pyplot as plt\n",
    "\n",
    "plt.scatter(X,y)"
   ]
  },
  {
   "cell_type": "code",
   "execution_count": 36,
   "id": "61b62248-4610-493e-9d9a-7bac345ff2b6",
   "metadata": {},
   "outputs": [
    {
     "name": "stdout",
     "output_type": "stream",
     "text": [
      "Mean Squared Error: 0.61\n",
      "R-squared: 0.98\n"
     ]
    }
   ],
   "source": [
    "\n",
    "# Define the number of boosting iterations (weak learners)\n",
    "n_estimators = 100\n",
    "\n",
    "# Initialize the ensemble prediction with the mean of the target values\n",
    "F = np.mean(y) * np.ones(len(y))\n",
    "\n",
    "# Gradient Boosting parameters\n",
    "learning_rate = 0.1\n",
    "\n",
    "# Create the weak learners (decision trees)\n",
    "weak_learners = []\n",
    "for i in range(n_estimators):\n",
    "    # Calculate the negative gradient (residuals)\n",
    "    residuals = y - F\n",
    "    \n",
    "    # Fit a weak learner (decision tree) to the residuals\n",
    "    weak_learner = DecisionTreeRegressor(max_depth=1)\n",
    "    weak_learner.fit(X, residuals)\n",
    "    \n",
    "    # Update the ensemble prediction with the weighted predictions of the weak learner\n",
    "    F += learning_rate * weak_learner.predict(X)\n",
    "    \n",
    "    # Store the weak learner in the list\n",
    "    weak_learners.append(weak_learner)\n",
    "\n",
    "# Make predictions with the final ensemble\n",
    "y_pred = F\n",
    "\n",
    "# Calculate MSE and R²\n",
    "mse = mean_squared_error(y, y_pred)\n",
    "r2 = r2_score(y, y_pred)\n",
    "\n",
    "print(f\"Mean Squared Error: {mse:.2f}\")\n",
    "print(f\"R-squared: {r2:.2f}\")\n"
   ]
  },
  {
   "cell_type": "markdown",
   "id": "c95c36a2-e6b3-4be6-874a-c47201b705e7",
   "metadata": {},
   "source": []
  },
  {
   "cell_type": "markdown",
   "id": "a53fe73a-a240-42ec-b3ad-759f76f1d351",
   "metadata": {},
   "source": [
    "Q3. Experiment with different hyperparameters such as learning rate, number of trees, and tree depth to\n",
    "optimise the performance of the model. Use grid search or random search to find the best\n",
    "hyperparameters"
   ]
  },
  {
   "cell_type": "code",
   "execution_count": 1,
   "id": "8a9cfd78-9e8c-48b5-afc4-205ab2da8e4e",
   "metadata": {},
   "outputs": [
    {
     "data": {
      "text/html": [
       "<style>#sk-container-id-1 {color: black;}#sk-container-id-1 pre{padding: 0;}#sk-container-id-1 div.sk-toggleable {background-color: white;}#sk-container-id-1 label.sk-toggleable__label {cursor: pointer;display: block;width: 100%;margin-bottom: 0;padding: 0.3em;box-sizing: border-box;text-align: center;}#sk-container-id-1 label.sk-toggleable__label-arrow:before {content: \"▸\";float: left;margin-right: 0.25em;color: #696969;}#sk-container-id-1 label.sk-toggleable__label-arrow:hover:before {color: black;}#sk-container-id-1 div.sk-estimator:hover label.sk-toggleable__label-arrow:before {color: black;}#sk-container-id-1 div.sk-toggleable__content {max-height: 0;max-width: 0;overflow: hidden;text-align: left;background-color: #f0f8ff;}#sk-container-id-1 div.sk-toggleable__content pre {margin: 0.2em;color: black;border-radius: 0.25em;background-color: #f0f8ff;}#sk-container-id-1 input.sk-toggleable__control:checked~div.sk-toggleable__content {max-height: 200px;max-width: 100%;overflow: auto;}#sk-container-id-1 input.sk-toggleable__control:checked~label.sk-toggleable__label-arrow:before {content: \"▾\";}#sk-container-id-1 div.sk-estimator input.sk-toggleable__control:checked~label.sk-toggleable__label {background-color: #d4ebff;}#sk-container-id-1 div.sk-label input.sk-toggleable__control:checked~label.sk-toggleable__label {background-color: #d4ebff;}#sk-container-id-1 input.sk-hidden--visually {border: 0;clip: rect(1px 1px 1px 1px);clip: rect(1px, 1px, 1px, 1px);height: 1px;margin: -1px;overflow: hidden;padding: 0;position: absolute;width: 1px;}#sk-container-id-1 div.sk-estimator {font-family: monospace;background-color: #f0f8ff;border: 1px dotted black;border-radius: 0.25em;box-sizing: border-box;margin-bottom: 0.5em;}#sk-container-id-1 div.sk-estimator:hover {background-color: #d4ebff;}#sk-container-id-1 div.sk-parallel-item::after {content: \"\";width: 100%;border-bottom: 1px solid gray;flex-grow: 1;}#sk-container-id-1 div.sk-label:hover label.sk-toggleable__label {background-color: #d4ebff;}#sk-container-id-1 div.sk-serial::before {content: \"\";position: absolute;border-left: 1px solid gray;box-sizing: border-box;top: 0;bottom: 0;left: 50%;z-index: 0;}#sk-container-id-1 div.sk-serial {display: flex;flex-direction: column;align-items: center;background-color: white;padding-right: 0.2em;padding-left: 0.2em;position: relative;}#sk-container-id-1 div.sk-item {position: relative;z-index: 1;}#sk-container-id-1 div.sk-parallel {display: flex;align-items: stretch;justify-content: center;background-color: white;position: relative;}#sk-container-id-1 div.sk-item::before, #sk-container-id-1 div.sk-parallel-item::before {content: \"\";position: absolute;border-left: 1px solid gray;box-sizing: border-box;top: 0;bottom: 0;left: 50%;z-index: -1;}#sk-container-id-1 div.sk-parallel-item {display: flex;flex-direction: column;z-index: 1;position: relative;background-color: white;}#sk-container-id-1 div.sk-parallel-item:first-child::after {align-self: flex-end;width: 50%;}#sk-container-id-1 div.sk-parallel-item:last-child::after {align-self: flex-start;width: 50%;}#sk-container-id-1 div.sk-parallel-item:only-child::after {width: 0;}#sk-container-id-1 div.sk-dashed-wrapped {border: 1px dashed gray;margin: 0 0.4em 0.5em 0.4em;box-sizing: border-box;padding-bottom: 0.4em;background-color: white;}#sk-container-id-1 div.sk-label label {font-family: monospace;font-weight: bold;display: inline-block;line-height: 1.2em;}#sk-container-id-1 div.sk-label-container {text-align: center;}#sk-container-id-1 div.sk-container {/* jupyter's `normalize.less` sets `[hidden] { display: none; }` but bootstrap.min.css set `[hidden] { display: none !important; }` so we also need the `!important` here to be able to override the default hidden behavior on the sphinx rendered scikit-learn.org. See: https://github.com/scikit-learn/scikit-learn/issues/21755 */display: inline-block !important;position: relative;}#sk-container-id-1 div.sk-text-repr-fallback {display: none;}</style><div id=\"sk-container-id-1\" class=\"sk-top-container\"><div class=\"sk-text-repr-fallback\"><pre>GridSearchCV(cv=3, estimator=GradientBoostingRegressor(), n_jobs=-1,\n",
       "             param_grid={&#x27;learning_rate&#x27;: [0.01, 0.1, 0.2],\n",
       "                         &#x27;max_depth&#x27;: [1, 2, 3],\n",
       "                         &#x27;n_estimators&#x27;: [50, 100, 150]},\n",
       "             scoring=&#x27;neg_mean_squared_error&#x27;)</pre><b>In a Jupyter environment, please rerun this cell to show the HTML representation or trust the notebook. <br />On GitHub, the HTML representation is unable to render, please try loading this page with nbviewer.org.</b></div><div class=\"sk-container\" hidden><div class=\"sk-item sk-dashed-wrapped\"><div class=\"sk-label-container\"><div class=\"sk-label sk-toggleable\"><input class=\"sk-toggleable__control sk-hidden--visually\" id=\"sk-estimator-id-1\" type=\"checkbox\" ><label for=\"sk-estimator-id-1\" class=\"sk-toggleable__label sk-toggleable__label-arrow\">GridSearchCV</label><div class=\"sk-toggleable__content\"><pre>GridSearchCV(cv=3, estimator=GradientBoostingRegressor(), n_jobs=-1,\n",
       "             param_grid={&#x27;learning_rate&#x27;: [0.01, 0.1, 0.2],\n",
       "                         &#x27;max_depth&#x27;: [1, 2, 3],\n",
       "                         &#x27;n_estimators&#x27;: [50, 100, 150]},\n",
       "             scoring=&#x27;neg_mean_squared_error&#x27;)</pre></div></div></div><div class=\"sk-parallel\"><div class=\"sk-parallel-item\"><div class=\"sk-item\"><div class=\"sk-label-container\"><div class=\"sk-label sk-toggleable\"><input class=\"sk-toggleable__control sk-hidden--visually\" id=\"sk-estimator-id-2\" type=\"checkbox\" ><label for=\"sk-estimator-id-2\" class=\"sk-toggleable__label sk-toggleable__label-arrow\">estimator: GradientBoostingRegressor</label><div class=\"sk-toggleable__content\"><pre>GradientBoostingRegressor()</pre></div></div></div><div class=\"sk-serial\"><div class=\"sk-item\"><div class=\"sk-estimator sk-toggleable\"><input class=\"sk-toggleable__control sk-hidden--visually\" id=\"sk-estimator-id-3\" type=\"checkbox\" ><label for=\"sk-estimator-id-3\" class=\"sk-toggleable__label sk-toggleable__label-arrow\">GradientBoostingRegressor</label><div class=\"sk-toggleable__content\"><pre>GradientBoostingRegressor()</pre></div></div></div></div></div></div></div></div></div></div>"
      ],
      "text/plain": [
       "GridSearchCV(cv=3, estimator=GradientBoostingRegressor(), n_jobs=-1,\n",
       "             param_grid={'learning_rate': [0.01, 0.1, 0.2],\n",
       "                         'max_depth': [1, 2, 3],\n",
       "                         'n_estimators': [50, 100, 150]},\n",
       "             scoring='neg_mean_squared_error')"
      ]
     },
     "execution_count": 1,
     "metadata": {},
     "output_type": "execute_result"
    }
   ],
   "source": [
    "import numpy as np\n",
    "from sklearn.tree import DecisionTreeRegressor\n",
    "from sklearn.ensemble import GradientBoostingRegressor\n",
    "from sklearn.model_selection import GridSearchCV, train_test_split\n",
    "from sklearn.metrics import mean_squared_error, r2_score\n",
    "\n",
    "# Generate a simple dataset\n",
    "np.random.seed(0)\n",
    "X = np.random.rand(100, 1) * 10\n",
    "y = 2 * X.squeeze() + np.random.randn(100)\n",
    "\n",
    "# Split the data into training and validation sets\n",
    "X_train, X_val, y_train, y_val = train_test_split(X, y, test_size=0.2, random_state=42)\n",
    "\n",
    "# Define a parameter grid for hyperparameter tuning\n",
    "param_grid = {\n",
    "    'n_estimators': [50, 100, 150],\n",
    "    'learning_rate': [0.01, 0.1, 0.2],\n",
    "    'max_depth': [1, 2, 3]\n",
    "}\n",
    "\n",
    "# Create a Gradient Boosting Regressor\n",
    "gb_regressor = GradientBoostingRegressor()\n",
    "\n",
    "# Perform a grid search with cross-validation\n",
    "grid_search = GridSearchCV(gb_regressor, param_grid, cv=3, scoring='neg_mean_squared_error', n_jobs=-1)\n",
    "grid_search.fit(X_train, y_train)\n",
    "\n"
   ]
  },
  {
   "cell_type": "code",
   "execution_count": 5,
   "id": "b8f4a7bb-13c0-4161-9401-9861ef0d1ec5",
   "metadata": {},
   "outputs": [],
   "source": [
    "# Get the best hyperparameters from the grid search\n",
    "best_params = grid_search.best_params_\n",
    "\n",
    "# Create a Gradient Boosting Regressor with the best hyperparameters\n",
    "best_gb_regressor = GradientBoostingRegressor(**best_params)\n",
    "\n",
    "# Fit the best model on the training data\n",
    "best_gb_regressor.fit(X_train, y_train)\n",
    "\n",
    "# Make predictions on the validation set\n",
    "y_val_pred = best_gb_regressor.predict(X_val)"
   ]
  },
  {
   "cell_type": "code",
   "execution_count": 6,
   "id": "757ac831-7526-4da2-a1de-8d6de255a43a",
   "metadata": {},
   "outputs": [
    {
     "name": "stdout",
     "output_type": "stream",
     "text": [
      "Best Hyperparameters: {'learning_rate': 0.2, 'max_depth': 1, 'n_estimators': 50}\n",
      "Validation Mean Squared Error: 1.32\n",
      "Validation R-squared: 0.94\n"
     ]
    }
   ],
   "source": [
    "# Calculate MSE and R² on the validation set\n",
    "mse_val = mean_squared_error(y_val, y_val_pred)\n",
    "r2_val = r2_score(y_val, y_val_pred)\n",
    "\n",
    "print(\"Best Hyperparameters:\", best_params)\n",
    "print(f\"Validation Mean Squared Error: {mse_val:.2f}\")\n",
    "print(f\"Validation R-squared: {r2_val:.2f}\")"
   ]
  },
  {
   "cell_type": "markdown",
   "id": "1d7e795d-a247-4f12-adae-54a08ed60133",
   "metadata": {},
   "source": []
  },
  {
   "cell_type": "markdown",
   "id": "90d96f2f-da0c-4c58-a099-2bb9a6bc5373",
   "metadata": {},
   "source": [
    "Q4. What is a weak learner in Gradient Boosting?\n",
    "\n",
    "Ans.  In the context of Gradient Boosting Regression, the weak learners are typically shallow decision trees, often called \"stumps\" or \"shallow trees.\" These trees are usually simple and have a limited depth, often just a single split or a few splits.  After each weak learner is trained, it is assigned a weight based on how much it contributes to reducing the loss function. The final prediction is a weighted combination of the predictions of all the weak learners. The weights ensure that more accurate models have a greater influence on the final prediction.\n"
   ]
  },
  {
   "cell_type": "markdown",
   "id": "18768973-2868-49f2-b6c4-e9adbe8be324",
   "metadata": {},
   "source": []
  },
  {
   "cell_type": "markdown",
   "id": "2c84dcfe-0260-48bd-bea5-ecec398a4bd0",
   "metadata": {},
   "source": [
    "Q5. What is the intuition behind the Gradient Boosting algorithm?\n",
    "\n",
    "Ans. Here's the intuition step by step:\n",
    "\n",
    "1. **Initialization**: Gradient Boosting starts with an initial prediction, often a simple one like the mean of the target values. This serves as the starting point.\n",
    "\n",
    "2. **Error Calculation**: The algorithm calculates the error, which is the difference between the current predictions and the actual target values. It uses a loss function, such as mean squared error (MSE), to quantify this error.\n",
    "\n",
    "3. **Gradient Calculation**: The gradient of the loss function is computed with respect to the current predictions. This gradient tells us how the loss would change if we made small adjustments to our predictions. Essentially, it indicates the direction and magnitude of the error reduction we need.\n",
    "\n",
    "4. **Update Predictions**: The next weak learner (decision tree) is trained to predict the negative gradient. This means it tries to find patterns in the data that help reduce the error in the direction indicated by the gradient.\n",
    "\n",
    "5. **Weighted Addition**: The predictions from the new weak learner are added to the current predictions with a certain weight. The weight is determined by how much this weak learner has reduced the error. This step ensures that the overall model moves closer to the true target values.\n",
    "\n",
    "6. **Iteration**: Steps 2-5 are repeated for a specified number of iterations (or until a stopping criterion is met). With each iteration, the model becomes better at reducing the error, as each new weak learner focuses on the remaining errors.\n",
    "\n",
    "7. **Final Prediction**: The final prediction is the sum of the predictions from all the weak learners. Since each learner is trained to correct the errors of the previous ones, the ensemble gradually approaches an accurate prediction of the target variable.\n",
    "\n"
   ]
  },
  {
   "cell_type": "markdown",
   "id": "eb2fe0be-5451-42c8-aed8-e721339f5b26",
   "metadata": {},
   "source": []
  },
  {
   "cell_type": "markdown",
   "id": "09f45835-6920-42f3-9d04-f5f6ef84d2b2",
   "metadata": {},
   "source": [
    "Q6. How does Gradient Boosting algorithm build an ensemble of weak learners?\n",
    "\n",
    "Ans. The Gradient Boosting algorithm builds an ensemble of weak learners in a sequential and adaptive manner. The key idea is to train each weak learner to correct the errors made by the previous ones. Here's how the ensemble is constructed step by step:\n",
    "\n",
    "1. **Initialization**: The ensemble starts with an initial prediction, which is typically a simple estimate for the target variable. Common choices include the mean of the target values for regression tasks or a balanced class distribution for classification tasks.\n",
    "\n",
    "2. **Compute Residuals**: After the initial prediction, the algorithm computes the residuals, which are the differences between the actual target values and the current predictions. These residuals represent the errors made by the current ensemble.\n",
    "\n",
    "3. **Train a Weak Learner**: A new weak learner (usually a shallow decision tree) is trained on the residuals from the previous step. The goal of this weak learner is to capture patterns in the data that can help reduce the errors made by the current ensemble.\n",
    "\n",
    "4. **Update Predictions**: The predictions from the newly trained weak learner are added to the current predictions with a certain weight. The weight is determined during the training process and is often calculated using techniques like gradient descent. The weight ensures that the contribution of each weak learner is proportional to its ability to reduce the error.\n",
    "\n",
    "5. **Repeat**: Steps 2-4 are repeated for a specified number of iterations or until a stopping criterion is met. With each iteration, a new weak learner is trained to correct the errors of the current ensemble. The process continues until the ensemble's performance reaches a satisfactory level or no further improvement is observed.\n",
    "\n",
    "The ensemble of weak learners is combined to form the final prediction. Each weak learner contributes to the prediction based on its ability to reduce the errors made by the previous ones. The final prediction is the sum (in regression) or a weighted vote (in classification) of the individual weak learner predictions.\n"
   ]
  },
  {
   "cell_type": "markdown",
   "id": "e4131def-2099-444c-ae64-66f3ca9dd59b",
   "metadata": {},
   "source": []
  },
  {
   "cell_type": "markdown",
   "id": "d75e69ee-27cc-487e-b5a8-7e09d5b40145",
   "metadata": {},
   "source": [
    "Q7. What are the steps involved in constructing the mathematical intuition of Gradient Boosting\n",
    "algorithm?\n",
    "\n",
    "Ans. Here are the key steps and concepts involved in building the mathematical intuition of Gradient Boosting:\n",
    "\n",
    "1. **Loss Function**: Gradient Boosting begins with defining a loss function, typically denoted as L(y, F(x)), where y represents the true target values, and F(x) represents the current ensemble's predictions. The goal is to minimize this loss function.\n",
    "\n",
    "2. **Initial Prediction**: The ensemble starts with an initial prediction, often represented as F₀(x). This is typically a simple constant, such as the mean of the target values for regression problems or a probability distribution for classification problems.\n",
    "\n",
    "3. **Residual Calculation**: At each iteration, the algorithm calculates the residuals (denoted as r) by subtracting the current prediction from the true target values: rᵢ = yᵢ - Fᵢ₋₁(xᵢ), where i represents the data point at index i, and Fᵢ₋₁(xᵢ) is the prediction made by the current ensemble at that point.\n",
    "\n",
    "4. **Fit a Weak Learner**: A new weak learner (usually a decision tree) is trained to predict the residuals. This is done by fitting a model Gᵢ(x) to the residual values r.\n",
    "\n",
    "5. **Update Ensemble**: The prediction of the ensemble is updated by adding the prediction of the newly trained weak learner, scaled by a learning rate (η): Fᵢ(x) = Fᵢ₋₁(x) + η * Gᵢ(x). This step ensures that the ensemble is moving closer to the true target values by adjusting its predictions based on the errors made so far.\n",
    "\n",
    "6. **Iterate**: Steps 3-5 are repeated for a specified number of iterations or until a stopping criterion is met. In each iteration, a new weak learner is trained to predict the residuals, and the ensemble is updated.\n",
    "\n",
    "7. **Final Prediction**: The final prediction is the sum of the predictions from all the weak learners: F(x) = F₀(x) + η * G₁(x) + η * G₂(x) + ... + η * Gₙ(x), where n is the total number of iterations.\n"
   ]
  },
  {
   "cell_type": "markdown",
   "id": "fba35c0a-548f-4cb7-b433-e4ce28689d3b",
   "metadata": {},
   "source": []
  }
 ],
 "metadata": {
  "kernelspec": {
   "display_name": "Python 3 (ipykernel)",
   "language": "python",
   "name": "python3"
  },
  "language_info": {
   "codemirror_mode": {
    "name": "ipython",
    "version": 3
   },
   "file_extension": ".py",
   "mimetype": "text/x-python",
   "name": "python",
   "nbconvert_exporter": "python",
   "pygments_lexer": "ipython3",
   "version": "3.11.4"
  }
 },
 "nbformat": 4,
 "nbformat_minor": 5
}
