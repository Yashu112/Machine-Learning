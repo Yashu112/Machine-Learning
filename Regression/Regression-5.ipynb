{
 "cells": [
  {
   "cell_type": "markdown",
   "id": "471a61ce-ffdc-4d6d-b42a-5487025f3bbb",
   "metadata": {},
   "source": []
  },
  {
   "cell_type": "markdown",
   "id": "58cae529-da9f-48bd-8986-7f9c9263e4ba",
   "metadata": {},
   "source": [
    "# Regression-5"
   ]
  },
  {
   "cell_type": "markdown",
   "id": "6ff09105-7d74-4684-999b-4fc235d52e43",
   "metadata": {},
   "source": []
  },
  {
   "cell_type": "markdown",
   "id": "d042b458-6563-4415-a034-589c29ae7f1b",
   "metadata": {},
   "source": [
    "Q1. What is Elastic Net Regression and how does it differ from other regression techniques?\n",
    "\n",
    "Ans. Elastic Net combines both L1 and L2 regularization. It adds a combination of L1 and L2 penalty terms to the loss function. This can provide a balance between the feature selection capability of L1 regularization and the even distribution of weights from L2 regularization.\n",
    "\n",
    "Suppose we have :\n",
    "$$ h_{\\theta}(x) = \\theta_{0} + \\theta_{1}x + \\theta_{2}x + ...$$\n",
    "\n",
    "Then formula used in Ordinary Least squares regression is:\n",
    "$$ J(\\theta) = \\frac{1}{n} \\sum\\limits_{i=1}^{n}\\left(y_i - h_{\\theta}(x_i)\\right)^2 $$\n",
    "\n",
    "The formula used in Ridge Regression is :\n",
    "$$ J(\\theta) = \\frac{1}{n} \\sum\\limits_{i=1}^{n}\\left(y_i - h_{\\theta}(x_i)\\right)^2 + \\lambda\\sum\\limits_{i=1}^{n}(\\theta_{i}) ^2$$\n",
    "\n",
    "And the formula used in Lasso Regression is :\n",
    "$$ J(\\theta) = \\frac{1}{n} \\sum\\limits_{i=1}^{n}\\left(y_i - h_{\\theta}(x_i)\\right)^2 + \\lambda\\sum\\limits_{i=1}^{n}|\\theta_{i}| $$\n",
    "\n",
    "And the formula for Elastic Net Regression is:\n",
    "$$ J(\\theta) = \\frac{1}{n} \\sum\\limits_{i=1}^{n}\\left(y_i - h_{\\theta}(x_i)\\right)^2 + \\lambda_1\\sum\\limits_{i=1}^{n}|\\theta_{i}| + \\lambda_2\\sum\\limits_{i=1}^{n}(\\theta_{i}) ^2$$\n",
    "    \n",
    "Here, $\\lambda$ is called **Hyper-parameter**\n"
   ]
  },
  {
   "cell_type": "markdown",
   "id": "12c4ed42-9216-4a3e-a7be-5d74c8b85286",
   "metadata": {},
   "source": []
  },
  {
   "cell_type": "markdown",
   "id": "bcab8444-7e04-4bf9-ba59-2863aedcaf4e",
   "metadata": {},
   "source": [
    "Q2. How do you choose the optimal values of the regularization parameters for Elastic Net Regression?\n",
    "\n",
    "Ans.  Selecting the value of the tuning parameter (often denoted as λ or α) in Elastic Net Regression is a crucial step in building an effective model. The goal is to find the optimal λ that balances the trade-off between model simplicity (small coefficients) and goodness of fit (closeness to the observed data). Here are common methods for selecting the value of λ in Elastic Net Regression:\n",
    "\n",
    "1. **Cross-Validation:**\n",
    "   - Cross-validation is one of the most widely used methods for tuning the regularization parameter in Elastic Net Regression.\n",
    "   - We divide dataset into multiple subsets (e.g., k-folds). For each fold, use the remaining folds for training and the current fold for validation.\n",
    "   - Fit Elastic Net Regression models with different values of $\\lambda$ on the training data for each fold.\n",
    "   - Evaluate the performance of each model on the validation fold, typically using a performance metric like Mean Squared Error (MSE) or Root Mean Squared Error (RMSE).\n",
    "   - Calculate the average performance across all folds for each $\\lambda$.\n",
    "   - Select the $\\lambda$ that yields the best average performance on the validation sets.\n",
    "\n",
    "2. **Grid Search:**\n",
    "   - Grid search involves predefining a range of $\\lambda$ values that we want to explore.\n",
    "   - Fit Elastic Net Regression models with each $\\lambda$ in the predefined range on the entire training dataset.\n",
    "   - Evaluate the models using a validation dataset or through cross-validation.\n",
    "   - Select the $\\lambda$ that results in the best performance on the validation data.\n",
    "\n",
    "3. **Randomized Search:**\n",
    "   - Similar to grid search, randomized search involves specifying a range of $\\lambda$ values.\n",
    "   - Instead of searching exhaustively through all possible values, randomly sample $\\lambda$ values from the specified range.\n",
    "   - Fit Elastic Net Regression models with the randomly selected $\\lambda$ values on the training data.\n",
    "   - Evaluate the models and select the $\\lambda$ that gives the best performance.\n",
    "\n",
    "4. **Validation Set Approach:**\n",
    "   - You can split your dataset into a training set and a separate validation set (not used for model training).\n",
    "   - Fit Elastic Net Regression models with various λ values on the training set.\n",
    "   - Evaluate the models on the validation set and choose the λ that performs best.\n",
    "\n",
    "5. **Domain Knowledge:**\n",
    "   - In some cases, domain knowledge or prior information about the problem may guide the choice of λ. For example, if you have reasons to believe that certain features should have smaller coefficients, you can select λ accordingly.\n"
   ]
  },
  {
   "cell_type": "markdown",
   "id": "de955022-6b21-4866-bb6c-60416c247b67",
   "metadata": {},
   "source": []
  },
  {
   "cell_type": "markdown",
   "id": "0a26a828-6af7-4821-9f1a-feff22b51f83",
   "metadata": {},
   "source": [
    "Q3. What are the advantages and disadvantages of Elastic Net Regression?\n",
    "\n",
    "Ans. The advantages and disadvantages of Elastic Net Regression:\n",
    "\n",
    "**Advantages**:\n",
    "\n",
    "1. **Handles Multicollinearity:** Elastic Net addresses multicollinearity, a situation where independent variables are highly correlated. \n",
    "2. **Feature Selection:** Like Lasso, Elastic Net can perform feature selection by pushing some coefficients to exactly zero. This leads to a sparse model, simplifying the interpretation and potentially improving model generalization.\n",
    "3. **Flexibility:** Elastic Net offers a flexible balance between L1 and L2 regularization. We can control the trade-off between feature selection (L1) and coefficient shrinkage (L2) by adjusting a mixing parameter. This allows us to tailor the regularization to the specific problem.\n",
    "4. **Robustness:** Elastic Net is robust to situations where there are many irrelevant or redundant features, making it suitable for high-dimensional datasets.\n",
    "5. **Model Stability:** It tends to provide more stable coefficient estimates compared to Lasso, which can be sensitive to small changes in the data.\n",
    "\n",
    "**Disadvantages**:\n",
    "\n",
    "1. **Complexity:** Elastic Net introduces an additional hyperparameter, the mixing parameter, that needs to be tuned. Finding the optimal mixing parameter can be more complex than tuning a single parameter in Lasso or Ridge Regression.\n",
    "2. **Loss of Interpretability:** While Elastic Net can perform feature selection, the interpretation of coefficients in a model with both L1 and L2 penalties can be more challenging compared to Ridge or Lasso alone. It's important to carefully interpret the coefficients in the context of the mixed regularization.\n",
    "3. **Limited to Linear Models:** Like Lasso and Ridge, Elastic Net is fundamentally a linear regression technique. It may not perform well for problems with highly non-linear relationships, where other non-linear models might be more appropriate.\n",
    "4. **Data Scaling:** As with other linear regression techniques, feature scaling (e.g., standardization) is important to ensure that the regularization terms are applied consistently across features. Failure to scale features properly can impact the performance of Elastic Net.\n",
    "5. **Not Always Necessary:** In some cases, where either L1 or L2 regularization alone suffices to address the problem (e.g., when there is no multicollinearity or when all features are relevant), using Elastic Net may introduce unnecessary complexity.\n"
   ]
  },
  {
   "cell_type": "markdown",
   "id": "fd55f34b-4162-46ea-aa3f-06475cce1592",
   "metadata": {},
   "source": []
  },
  {
   "cell_type": "markdown",
   "id": "593c9741-1c76-4c70-a5ad-3bc1721ddbf3",
   "metadata": {},
   "source": [
    "Q4. What are some common use cases for Elastic Net Regression?\n",
    "\n",
    "Ans. Some common use cases for Elastic Net Regression:\n",
    "\n",
    "- **Healthcare Predictions:**\n",
    "\n",
    "- **Financial Forecasting:**\n",
    "\n",
    "- **Marketing and Customer Analytics:**\n",
    "\n",
    "- **Environmental Modeling:**\n",
    " \n",
    "- **Image Processing and Computer Vision:**\n",
    "\n",
    "- **Genomic Data Analysis:**\n",
    " \n",
    "- **Text Mining and Natural Language Processing (NLP):**\n",
    " "
   ]
  },
  {
   "cell_type": "markdown",
   "id": "198c1746-fd14-4094-a249-6b527867f65f",
   "metadata": {},
   "source": []
  },
  {
   "cell_type": "markdown",
   "id": "37fb073b-890f-4d4f-bfed-5f55814e3d8b",
   "metadata": {},
   "source": [
    "Q5. How do you interpret the coefficients in Elastic Net Regression?\n",
    "\n",
    "Ans. We interpret the coefficients in an Elastic Net Regression model as follows:\n",
    "\n",
    "1. **Magnitude of Coefficients:** The magnitude of a coefficient in an Elastic Net model indicates the strength and direction of the relationship between the corresponding independent variable and the dependent variable. As in ordinary linear regression, a larger magnitude suggests a stronger effect, while a smaller magnitude suggests a weaker effect.\n",
    "\n",
    "2. **Sign of Coefficients:** The sign of a coefficient (+ or -) indicates the direction of the relationship between the independent variable and the dependent variable. A positive coefficient implies that an increase in the independent variable is associated with an increase in the dependent variable, while a negative coefficient implies the opposite.\n",
    "\n",
    "3. **Variable Importance:** Elastic Net, like Lasso, can perform feature selection by pushing some coefficients to exactly zero. Features with non-zero coefficients are considered important predictors, while those with zero coefficients are excluded from the model. We can assess variable importance based on the magnitude and sign of the coefficients.\n",
    "\n",
    "4. **Balance of L1 and L2 Regularization:** Elastic Net allows us to control the balance between L1 and L2 regularization using a mixing parameter, often denoted as \"α\" or \"$l1_ratio$\". A value of α = 1 corresponds to pure Lasso regularization, while α = 0 corresponds to pure Ridge regularization. Intermediate values of α provide a trade-off between feature selection (L1) and coefficient shrinkage (L2). Interpreting coefficients involves considering this trade-off and the relative impact of Lasso and Ridge penalties on each coefficient.\n",
    "\n",
    "5. **Sparsity and Simplicity:** Elastic Net can lead to a sparse model where some coefficients are exactly zero, simplifying the interpretation. The mixing parameter α controls the sparsity level. A higher α value pushes more coefficients to zero, resulting in a sparser model.\n",
    "\n",
    "6. **Scaling Matters:** As with other regression techniques, the interpretation of coefficients depends on the scaling of your independent variables. Standardizing variables (subtracting the mean and dividing by the standard deviation) ensures that the coefficients represent the effect of a one-standard-deviation change in the independent variable.\n"
   ]
  },
  {
   "cell_type": "markdown",
   "id": "6b30030d-44e1-4833-a981-e61eee21ab0d",
   "metadata": {},
   "source": []
  },
  {
   "cell_type": "markdown",
   "id": "beb4b4fc-8772-4b66-bfc8-66fc626221b0",
   "metadata": {},
   "source": [
    "Q6. How do you handle missing values when using Elastic Net Regression?\n",
    "\n",
    "Ans. Here are several strategies to deal with missing values in your dataset before applying Elastic Net Regression:\n",
    "\n",
    "1. **Data Imputation:**\n",
    "   - One common approach is to impute (replace) missing values with estimated values. Common imputation techniques include mean, median, or mode imputation, where missing values are replaced with the mean, median, or mode of the observed values for that variable.\n",
    "   - More advanced imputation methods include regression imputation, k-nearest neighbors (KNN) imputation, or imputation using machine learning models. These methods consider relationships between variables to make more accurate imputations.\n",
    "\n",
    "2. **Removal of Missing Data:** If the proportion of missing values for a particular variable is very small and missingness is assumed to be random, we can consider simply removing rows with missing values. This approach is reasonable when the amount of missing data is negligible.\n",
    "\n",
    "3. **Advanced Imputation Techniques:** Depending on the nature of our data and the reasons for missingness, more sophisticated imputation methods such as multiple imputation or probabilistic imputation (e.g., using Bayesian techniques) can be considered. These methods account for uncertainty in imputed values and provide better estimates.\n",
    "\n",
    "5. **Domain Knowledge:** In some cases, domain knowledge may guide the handling of missing values. For example, if a certain variable is missing because it's not applicable in certain situations, we might decide to treat it differently or not use it in the model for those cases.\n"
   ]
  },
  {
   "cell_type": "markdown",
   "id": "969e1b04-cdad-4aef-9c6d-e6eb5b88837b",
   "metadata": {},
   "source": []
  },
  {
   "cell_type": "markdown",
   "id": "4f806e03-a89c-4d1c-a76c-5f8d13c2f78d",
   "metadata": {},
   "source": [
    "Q7. How do you use Elastic Net Regression for feature selection?\n",
    "\n",
    "Ans. Elastic Net Regression can be used for feature selection as:\n",
    "\n",
    "1. **Data Preparation:** preparing our dataset, ensuring that it's properly cleaned and standardized. Address any missing values, outliers, and categorical variables as needed.\n",
    "\n",
    "2. **Select the Elastic Net Model:** Choose Elastic Net Regression as our modeling technique. In most machine learning libraries, we can specify Elastic Net by setting the mixing parameter α (alpha) appropriately. A value of 1 corresponds to pure Lasso, 0 corresponds to pure Ridge, and values between 0 and 1 provide a trade-off between the two.\n",
    "\n",
    "3. **Hyperparameter Tuning:** Tune the mixing parameter α using techniques like cross-validation. Cross-validation helps you find the optimal balance between L1 and L2 regularization for your specific problem. Grid search or randomized search can be employed to explore different values of α.\n",
    "\n",
    "4. **Fit the Elastic Net Model:** Train the Elastic Net Regression model on our dataset using the chosen α value. This will result in coefficient estimates for all the independent variables in your dataset.\n",
    "\n",
    "5. **Coefficient Analysis:** Examine the coefficient estimates obtained from the Elastic Net model. Coefficients can be positive, negative, or zero. Features with non-zero coefficients are considered selected features, meaning they are deemed relevant by the model. These are the features that contribute to the model's predictions.\n",
    "\n",
    "6. **Feature Selection Threshold:** Depending on our goals, we can set a threshold for feature selection. This threshold can be based on domain knowledge or determined through experimentation.\n",
    "\n",
    "7. **Implement the Final Model:** Create a final model using only the selected features. Train this model on the selected features and evaluate its performance on a validation or test dataset.\n",
    "\n",
    "8. **Evaluate Model Performance:** Assess the performance of your final model using appropriate evaluation metrics, such as Mean Squared Error (MSE), Root Mean Squared Error (RMSE), Mean Absolute Error (MAE), or others.\n"
   ]
  },
  {
   "cell_type": "markdown",
   "id": "f0ef6e98-ecb6-468f-a0c7-6d4e8b5a25ff",
   "metadata": {},
   "source": []
  },
  {
   "cell_type": "markdown",
   "id": "221b0eac-d94f-4dd0-9dbe-d843ebc79903",
   "metadata": {},
   "source": [
    "Q8. How do you pickle and unpickle a trained Elastic Net Regression model in Python?\n",
    "\n",
    "Ans. Pickle is a Python module that allows us to serialize (pickle) and deserialize (unpickle) objects, including trained machine learning models like Elastic Net Regression. \n",
    "\n",
    "Here's how we can pickle and unpickle a trained Elastic Net Regression model in Python after training an Elastic Net model on some random data:"
   ]
  },
  {
   "cell_type": "code",
   "execution_count": 2,
   "id": "2d471f0d-6ba8-4b71-a87d-122635670f6b",
   "metadata": {},
   "outputs": [
    {
     "data": {
      "text/html": [
       "<div>\n",
       "<style scoped>\n",
       "    .dataframe tbody tr th:only-of-type {\n",
       "        vertical-align: middle;\n",
       "    }\n",
       "\n",
       "    .dataframe tbody tr th {\n",
       "        vertical-align: top;\n",
       "    }\n",
       "\n",
       "    .dataframe thead th {\n",
       "        text-align: right;\n",
       "    }\n",
       "</style>\n",
       "<table border=\"1\" class=\"dataframe\">\n",
       "  <thead>\n",
       "    <tr style=\"text-align: right;\">\n",
       "      <th></th>\n",
       "      <th>Weight</th>\n",
       "      <th>Height</th>\n",
       "    </tr>\n",
       "  </thead>\n",
       "  <tbody>\n",
       "    <tr>\n",
       "      <th>0</th>\n",
       "      <td>45</td>\n",
       "      <td>120</td>\n",
       "    </tr>\n",
       "    <tr>\n",
       "      <th>1</th>\n",
       "      <td>58</td>\n",
       "      <td>135</td>\n",
       "    </tr>\n",
       "    <tr>\n",
       "      <th>2</th>\n",
       "      <td>48</td>\n",
       "      <td>123</td>\n",
       "    </tr>\n",
       "    <tr>\n",
       "      <th>3</th>\n",
       "      <td>60</td>\n",
       "      <td>145</td>\n",
       "    </tr>\n",
       "    <tr>\n",
       "      <th>4</th>\n",
       "      <td>70</td>\n",
       "      <td>160</td>\n",
       "    </tr>\n",
       "  </tbody>\n",
       "</table>\n",
       "</div>"
      ],
      "text/plain": [
       "   Weight  Height\n",
       "0      45     120\n",
       "1      58     135\n",
       "2      48     123\n",
       "3      60     145\n",
       "4      70     160"
      ]
     },
     "execution_count": 2,
     "metadata": {},
     "output_type": "execute_result"
    }
   ],
   "source": [
    "import pandas as pd\n",
    "import numpy as np\n",
    "import seaborn as sns\n",
    "import matplotlib.pyplot as plt\n",
    "%matplotlib inline\n",
    "\n",
    "df=pd.read_csv('height-weight.csv')\n",
    "df.head()"
   ]
  },
  {
   "cell_type": "code",
   "execution_count": 9,
   "id": "8bcb9e05-8ebb-4140-8b91-a314bdc2615a",
   "metadata": {},
   "outputs": [
    {
     "data": {
      "image/png": "[encoded data removed]",
      "text/plain": [
       "<Figure size 640x480 with 1 Axes>"
      ]
     },
     "metadata": {},
     "output_type": "display_data"
    }
   ],
   "source": [
    "X=df[['Weight']]\n",
    "y=df[['Height']]\n",
    "sns.scatterplot(data=df, x='Weight', y='Height')\n",
    "plt.show()"
   ]
  },
  {
   "cell_type": "code",
   "execution_count": 10,
   "id": "19c0fc1f-561c-4ae2-92ce-f433f77e10d6",
   "metadata": {},
   "outputs": [
    {
     "name": "stdout",
     "output_type": "stream",
     "text": [
      "MAE : 13.096646432868159\n",
      "R2 SCORE : -0.7868487304365237\n"
     ]
    }
   ],
   "source": [
    "from sklearn.model_selection import train_test_split\n",
    "X_train, X_test, y_train, y_test = train_test_split(X,y,test_size=0.20,random_state=42)\n",
    "\n",
    "from sklearn.preprocessing import StandardScaler\n",
    "scaler=StandardScaler()\n",
    "\n",
    "X_train=scaler.fit_transform(X_train)\n",
    "X_test=scaler.transform(X_test)\n",
    "\n",
    "from sklearn.metrics import mean_squared_error, mean_absolute_error, r2_score\n",
    "from sklearn.linear_model import ElasticNet\n",
    "\n",
    "elastic = ElasticNet()\n",
    "elastic.fit(X_train,y_train)\n",
    "y_pred=elastic.predict(X_test)\n",
    "mae=mean_absolute_error(y_pred,y_test)\n",
    "score=r2_score(y_pred,y_test)\n",
    "print('MAE :',mae)\n",
    "print('R2 SCORE :', score)"
   ]
  },
  {
   "cell_type": "code",
   "execution_count": 16,
   "id": "66ee3ad3-9f32-47f1-959f-a48273540749",
   "metadata": {},
   "outputs": [
    {
     "data": {
      "image/png": "[encoded data removed]",
      "text/plain": [
       "<Figure size 640x480 with 1 Axes>"
      ]
     },
     "metadata": {},
     "output_type": "display_data"
    }
   ],
   "source": [
    "plt.scatter(X_train, y_train)\n",
    "plt.plot(X_train, elastic.predict(X_train), c='r')\n",
    "plt.xlabel(\"Weight\")\n",
    "plt.ylabel(\"Height\")\n",
    "plt.show()"
   ]
  },
  {
   "cell_type": "markdown",
   "id": "8ab78508-05fd-420b-bd5d-8f4575d7dd35",
   "metadata": {},
   "source": [
    "Now the pickle file for above model is created as follows:"
   ]
  },
  {
   "cell_type": "code",
   "execution_count": 19,
   "id": "672405c1-85c0-4798-929b-2dbc97be6d8e",
   "metadata": {},
   "outputs": [],
   "source": [
    "import pickle\n",
    "\n",
    "#pickling the files\n",
    "pickle.dump(scaler,open('scaler.pkl','wb'))\n",
    "pickle.dump(elastic, open('elastic_net_model.pkl','wb'))"
   ]
  },
  {
   "cell_type": "markdown",
   "id": "989a9b9c-d2cf-4565-bf52-2d05cfa3531d",
   "metadata": {},
   "source": [
    "Unpickling means loading the model from file, this is shown as follows:"
   ]
  },
  {
   "cell_type": "code",
   "execution_count": 21,
   "id": "877a1e0b-90cc-49ef-95ee-42f7f0c95711",
   "metadata": {},
   "outputs": [
    {
     "name": "stdout",
     "output_type": "stream",
     "text": [
      "The loaded elastic net model:\n"
     ]
    },
    {
     "data": {
      "text/html": [
       "<style>#sk-container-id-1 {color: black;background-color: white;}#sk-container-id-1 pre{padding: 0;}#sk-container-id-1 div.sk-toggleable {background-color: white;}#sk-container-id-1 label.sk-toggleable__label {cursor: pointer;display: block;width: 100%;margin-bottom: 0;padding: 0.3em;box-sizing: border-box;text-align: center;}#sk-container-id-1 label.sk-toggleable__label-arrow:before {content: \"▸\";float: left;margin-right: 0.25em;color: #696969;}#sk-container-id-1 label.sk-toggleable__label-arrow:hover:before {color: black;}#sk-container-id-1 div.sk-estimator:hover label.sk-toggleable__label-arrow:before {color: black;}#sk-container-id-1 div.sk-toggleable__content {max-height: 0;max-width: 0;overflow: hidden;text-align: left;background-color: #f0f8ff;}#sk-container-id-1 div.sk-toggleable__content pre {margin: 0.2em;color: black;border-radius: 0.25em;background-color: #f0f8ff;}#sk-container-id-1 input.sk-toggleable__control:checked~div.sk-toggleable__content {max-height: 200px;max-width: 100%;overflow: auto;}#sk-container-id-1 input.sk-toggleable__control:checked~label.sk-toggleable__label-arrow:before {content: \"▾\";}#sk-container-id-1 div.sk-estimator input.sk-toggleable__control:checked~label.sk-toggleable__label {background-color: #d4ebff;}#sk-container-id-1 div.sk-label input.sk-toggleable__control:checked~label.sk-toggleable__label {background-color: #d4ebff;}#sk-container-id-1 input.sk-hidden--visually {border: 0;clip: rect(1px 1px 1px 1px);clip: rect(1px, 1px, 1px, 1px);height: 1px;margin: -1px;overflow: hidden;padding: 0;position: absolute;width: 1px;}#sk-container-id-1 div.sk-estimator {font-family: monospace;background-color: #f0f8ff;border: 1px dotted black;border-radius: 0.25em;box-sizing: border-box;margin-bottom: 0.5em;}#sk-container-id-1 div.sk-estimator:hover {background-color: #d4ebff;}#sk-container-id-1 div.sk-parallel-item::after {content: \"\";width: 100%;border-bottom: 1px solid gray;flex-grow: 1;}#sk-container-id-1 div.sk-label:hover label.sk-toggleable__label {background-color: #d4ebff;}#sk-container-id-1 div.sk-serial::before {content: \"\";position: absolute;border-left: 1px solid gray;box-sizing: border-box;top: 0;bottom: 0;left: 50%;z-index: 0;}#sk-container-id-1 div.sk-serial {display: flex;flex-direction: column;align-items: center;background-color: white;padding-right: 0.2em;padding-left: 0.2em;position: relative;}#sk-container-id-1 div.sk-item {position: relative;z-index: 1;}#sk-container-id-1 div.sk-parallel {display: flex;align-items: stretch;justify-content: center;background-color: white;position: relative;}#sk-container-id-1 div.sk-item::before, #sk-container-id-1 div.sk-parallel-item::before {content: \"\";position: absolute;border-left: 1px solid gray;box-sizing: border-box;top: 0;bottom: 0;left: 50%;z-index: -1;}#sk-container-id-1 div.sk-parallel-item {display: flex;flex-direction: column;z-index: 1;position: relative;background-color: white;}#sk-container-id-1 div.sk-parallel-item:first-child::after {align-self: flex-end;width: 50%;}#sk-container-id-1 div.sk-parallel-item:last-child::after {align-self: flex-start;width: 50%;}#sk-container-id-1 div.sk-parallel-item:only-child::after {width: 0;}#sk-container-id-1 div.sk-dashed-wrapped {border: 1px dashed gray;margin: 0 0.4em 0.5em 0.4em;box-sizing: border-box;padding-bottom: 0.4em;background-color: white;}#sk-container-id-1 div.sk-label label {font-family: monospace;font-weight: bold;display: inline-block;line-height: 1.2em;}#sk-container-id-1 div.sk-label-container {text-align: center;}#sk-container-id-1 div.sk-container {/* jupyter's `normalize.less` sets `[hidden] { display: none; }` but bootstrap.min.css set `[hidden] { display: none !important; }` so we also need the `!important` here to be able to override the default hidden behavior on the sphinx rendered scikit-learn.org. See: https://github.com/scikit-learn/scikit-learn/issues/21755 */display: inline-block !important;position: relative;}#sk-container-id-1 div.sk-text-repr-fallback {display: none;}</style><div id=\"sk-container-id-1\" class=\"sk-top-container\"><div class=\"sk-text-repr-fallback\"><pre>ElasticNet()</pre><b>In a Jupyter environment, please rerun this cell to show the HTML representation or trust the notebook. <br />On GitHub, the HTML representation is unable to render, please try loading this page with nbviewer.org.</b></div><div class=\"sk-container\" hidden><div class=\"sk-item\"><div class=\"sk-estimator sk-toggleable\"><input class=\"sk-toggleable__control sk-hidden--visually\" id=\"sk-estimator-id-1\" type=\"checkbox\" checked><label for=\"sk-estimator-id-1\" class=\"sk-toggleable__label sk-toggleable__label-arrow\">ElasticNet</label><div class=\"sk-toggleable__content\"><pre>ElasticNet()</pre></div></div></div></div></div>"
      ],
      "text/plain": [
       "ElasticNet()"
      ]
     },
     "execution_count": 21,
     "metadata": {},
     "output_type": "execute_result"
    }
   ],
   "source": [
    "loaded_scaler=pickle.load(open('scaler.pkl','rb'))\n",
    "loaded_model=pickle.load(open('elastic_net_model.pkl', 'rb'))\n",
    "\n",
    "print('The loaded elastic net model:')\n",
    "loaded_model"
   ]
  },
  {
   "cell_type": "markdown",
   "id": "19853dbe-f8bb-435f-8556-9388a0f5b310",
   "metadata": {},
   "source": []
  },
  {
   "cell_type": "markdown",
   "id": "10a97b3d-1ba0-4ea5-b7f2-75f04ebc937e",
   "metadata": {},
   "source": [
    "Q9. What is the purpose of pickling a model in machine learning?\n",
    "\n",
    "Ans. Pickling a model in machine learning serves several important purposes:\n",
    "\n",
    "1. **Persistence:** Machine learning models, especially complex ones, can take a significant amount of time and computational resources to train. Pickling allows us to save the trained model to disk in a serialized format. This way, we can easily reuse the model without the need to retrain it every time we want to make predictions.\n",
    "\n",
    "2. **Portability:** Serialized models can be easily transported across different environments and platforms. We can train a model on one machine or environment and then deploy it on another, ensuring consistency in predictions.\n",
    "\n",
    "3. **Scalability:** Pickling is useful when we want to distribute trained models across multiple nodes in a distributed computing environment. Each node can load the serialized model, making it available for parallel processing.\n",
    "\n",
    "4. **Version Control:** Saving models as pickle files allows us to maintain a version history of our models alongside our code. This can be crucial for reproducibility and tracking changes to our models over time.\n",
    "\n",
    "5. **Production Deployment:** In real-world applications, models need to be integrated into production systems or applications to make real-time predictions. Pickling allows us to save the model and load it into our production environment for serving predictions.\n",
    "\n",
    "6. **Testing and Debugging:** We can use pickled models for testing and debugging purposes. Loading a trained model enables us to validate its behavior and performance on new data or debug any issues that may arise during deployment.\n",
    "\n",
    "7. **Sharing and Collaboration:** Pickling facilitates model sharing and collaboration in data science projects. We can share serialized models with team members, collaborators, or the broader community.\n",
    "\n"
   ]
  },
  {
   "cell_type": "markdown",
   "id": "1390120b-7310-48c4-88d2-c0d6b914eea2",
   "metadata": {},
   "source": []
  }
 ],
 "metadata": {
  "kernelspec": {
   "display_name": "Python 3 (ipykernel)",
   "language": "python",
   "name": "python3"
  },
  "language_info": {
   "codemirror_mode": {
    "name": "ipython",
    "version": 3
   },
   "file_extension": ".py",
   "mimetype": "text/x-python",
   "name": "python",
   "nbconvert_exporter": "python",
   "pygments_lexer": "ipython3",
   "version": "3.10.8"
  }
 },
 "nbformat": 4,
 "nbformat_minor": 5
}
