{
 "cells": [
  {
   "cell_type": "markdown",
   "id": "19447be3-6d49-4a95-a588-217fc8f85cff",
   "metadata": {},
   "source": [
    "# Logistic Regression-1"
   ]
  },
  {
   "cell_type": "markdown",
   "id": "b67a20d8-076c-4e7b-9777-d3560a35800f",
   "metadata": {},
   "source": []
  },
  {
   "cell_type": "markdown",
   "id": "af0725a8-9a51-4b11-88c0-09f88d9ca49e",
   "metadata": {},
   "source": [
    "Q1. Explain the difference between linear regression and logistic regression models. Provide an example of\n",
    "a scenario where logistic regression would be more appropriate.\n",
    "\n",
    "Ans. The basic difference between linear regression and logistic regression models is that in linear regression the target variable that is to be predicted is a **Numerical Feature**, it is continuous. But, logistic regression is used when the variable to be predicted is a **Categorical Feature**, it used to solve a classification problem. \n",
    "\n",
    "For example, suppose we are trying to build a machine learning model to classify inbox mails as Spam or Not Spam, then in this case we cannot use Linear Regression, we need to use Logistic Regression.\n"
   ]
  },
  {
   "cell_type": "markdown",
   "id": "c0ab446c-0b88-463b-9031-1a830eead2db",
   "metadata": {},
   "source": []
  },
  {
   "cell_type": "markdown",
   "id": "a9d6a3f1-e90b-40d5-99e5-ce19aacf43f4",
   "metadata": {},
   "source": [
    "Q2. What is the cost function used in logistic regression, and how is it optimized?\n",
    "\n",
    "Ans. The cost function used in Logistic Regression is as follows:\n",
    "$$ J(\\theta) = \\frac{1}{n} \\sum\\limits_{i=1}^{n}\\left(y_i - h_{\\theta}(x_i)\\right)^2 $$\n",
    "\n",
    "where,\n",
    "\n",
    "$$ h(\\theta) = \\frac{1}{1 + e^{-(\\theta_0 + \\theta_{1}x_1)}} $$\n",
    "\n",
    "But this is non-convex so we define another loss function as:\n",
    "\n",
    "$$ J(\\theta_0,\\theta_1) = \n",
    "\\begin{cases}\n",
    "\\log(h_{\\theta}(x)) \\text{ if } y=1\\\\\n",
    "\\log(1-h_{\\theta}(x)) \\text{ if } y=0\n",
    "\\end{cases}\n",
    "$$\n",
    "\n",
    "this can be written as:\n",
    "$$ J(\\theta_0,\\theta_1) = -y\\log(h_{\\theta}(x)) - (1-y)\\log(1-h_{\\theta}(x)) $$\n",
    "\n",
    "where, $ h(\\theta) = \\frac{1}{1 + e^{-(\\theta_0 + \\theta_{1}x_1)}} $\n",
    "\n",
    "This is called the log-loss function.\n",
    "\n",
    "For optimizing it, we use the convergence algorithm and minimize the log-loss function:\n",
    "\n",
    "Repeat until convergence:\n",
    "\n",
    ">j=0,1\n",
    "\n",
    ">$\\theta_j = \\theta_j - \\alpha . \\frac{\\partial}{\\partial{\\theta_j}}J(\\theta_0,\\theta_1)$\n",
    "\n",
    "Where \n",
    "- $J(\\theta_0,\\theta_1)$ is our cost/loss function, for example it can be the Mean Squared Error. \n",
    "- $\\alpha$ is the learning rate\n"
   ]
  },
  {
   "cell_type": "markdown",
   "id": "cec3b1c8-29c4-42d6-92c9-4eb73c67bb2e",
   "metadata": {},
   "source": []
  },
  {
   "cell_type": "markdown",
   "id": "39b90305-2c39-4619-a232-ee3f55eb1283",
   "metadata": {},
   "source": [
    "Q3. Explain the concept of regularization in logistic regression and how it helps prevent overfitting.\n",
    "\n",
    "Ans. Regularization is a set of techniques used in machine learning to prevent overfitting by adding a penalty to the model's loss function based on the complexity of the model. Regularization techniques encourage the model to have smaller parameter values, effectively reducing its capacity to fit noise in the training data and promoting better generalization to new, unseen data.\n",
    "\n",
    "Suppose we have :\n",
    "$$ h_{\\theta}(x) = \\theta_{0} + \\theta_{1}x + \\theta_{2}x + ...$$\n",
    "\n",
    "Suppose we use Mean Squared Error as our cost function:\n",
    "$$ J(\\theta) = \\frac{1}{n} \\sum\\limits_{i=1}^{n}\\left(y_i - h_{\\theta}(x_i)\\right)^2 $$\n",
    "\n",
    "Common regularization techniques and the modified cost function is as follows:\n",
    "\n",
    "- **L1 Regularization (Lasso):** L1 regularization adds a penalty term proportional to the absolute values of the model's parameters to the cost function. This can help in feature selection and reducing model complexity.\n",
    "    \n",
    "    The regularized function is: \n",
    "    \n",
    "    $$ J(\\theta) = -y\\log(h_{\\theta}(x)) - (1-y)\\log(1-h_{\\theta}(x)) + \\lambda\\sum\\limits_{i=1}^{n}|\\theta_{i}| $$\n",
    "\n",
    "\n",
    "- **L2 Regularization (Ridge):** L2 regularization adds a penalty term proportional to the squared values of the model's parameters to the loss function. It encourages the model to have smaller but non-zero weight values for all features, distributing the influence more evenly across features.\n",
    "\n",
    "    The regularized function is: \n",
    "    \n",
    "    $$ J(\\theta) = -y\\log(h_{\\theta}(x)) - (1-y)\\log(1-h_{\\theta}(x)) + \\lambda\\sum\\limits_{i=1}^{n}(\\theta_{i}) ^2$$\n",
    "\n",
    "- **Elastic Net Regularization:** Elastic Net combines both L1 and L2 regularization. It adds a combination of L1 and L2 penalty terms to the loss function. This can provide a balance between the feature selection capability of L1 regularization and the even distribution of weights from L2 regularization.\n",
    "\n",
    "    The regularized function is:\n",
    "    \n",
    "    $$ J(\\theta) = -y\\log(h_{\\theta}(x)) - (1-y)\\log(1-h_{\\theta}(x)) + \\lambda_1\\sum\\limits_{i=1}^{n}|\\theta_{i}| + \\lambda_2\\sum\\limits_{i=1}^{n}(\\theta_{i}) ^2$$\n",
    "\n",
    "where, $ h(\\theta) = \\frac{1}{1 + e^{-(\\theta_0 + \\theta_{1}x_1)}} $ and $\\lambda$ is called **Hyper-parameter**\n"
   ]
  },
  {
   "cell_type": "markdown",
   "id": "55f482f9-21be-42fa-a7d7-bcad0f612127",
   "metadata": {},
   "source": []
  },
  {
   "cell_type": "markdown",
   "id": "c06ffecf-ad05-4176-8dc5-897fd4b3aec1",
   "metadata": {},
   "source": [
    "Q4. What is the ROC curve, and how is it used to evaluate the performance of the logistic regression model?\n",
    "\n",
    "Ans. The ROC (Receiver Operating Characteristic) curve is a graphical representation used to evaluate the performance of binary classification models, including logistic regression models. It helps to visualize and assess the trade-off between a model's true positive rate (sensitivity) and its false positive rate (1-specificity) across different probability thresholds.\n",
    "\n",
    "To construct the ROC curve, you vary the threshold from 0 to 1. For each threshold value, you calculate the true positive rate (TPR) and false positive rate (FPR) as follows:\n",
    "\n",
    "   - TPR (Sensitivity) = True Positives / (True Positives + False Negatives)\n",
    "   - FPR (1-Specificity) = False Positives / (False Positives + True Negatives)\n",
    "\n",
    "   True Positives (TP) are the instances correctly classified as positive, False Positives (FP) are the instances incorrectly classified as positive, True Negatives (TN) are the instances correctly classified as negative, and False Negatives (FN) are the instances incorrectly classified as negative.\n",
    "\n",
    "We plot the TPR (Sensitivity) on the y-axis and the FPR (1-Specificity) on the x-axis. This results in a curve that typically starts at the point (0,0) and ends at (1,1). The diagonal line from (0,0) to (1,1) represents a random classifier with no predictive power.\n",
    "\n",
    "**Evaluating Model Performance**: The shape of the ROC curve and its distance from the diagonal line provide insights into the performance of your logistic regression model:\n",
    "\n",
    "   - A curve that is closer to the top-left corner (0,1) indicates better performance.\n",
    "   - The area under the ROC curve (AUC-ROC) is a scalar value that summarizes the overall performance of the model. AUC-ROC values range from 0 to 1, with a higher value indicating better discrimination. An AUC-ROC of 0.5 suggests a model performs no better than random guessing, while an AUC-ROC of 1 represents a perfect classifier.\n",
    "\n",
    "Example using random data is as follows:"
   ]
  },
  {
   "cell_type": "code",
   "execution_count": 3,
   "id": "3b5482ac-f288-4ad3-b48c-ca969527a4cb",
   "metadata": {},
   "outputs": [],
   "source": [
    "from sklearn.datasets import make_classification\n",
    "\n",
    "X,y = make_classification(n_samples=1000, n_classes=2, n_clusters_per_class=2)"
   ]
  },
  {
   "cell_type": "code",
   "execution_count": 7,
   "id": "ad08fbb0-2ecd-43f9-8992-f915037cc228",
   "metadata": {},
   "outputs": [
    {
     "name": "stdout",
     "output_type": "stream",
     "text": [
      "0.904\n",
      "[[107  11]\n",
      " [ 13 119]]\n",
      "              precision    recall  f1-score   support\n",
      "\n",
      "           0       0.89      0.91      0.90       118\n",
      "           1       0.92      0.90      0.91       132\n",
      "\n",
      "    accuracy                           0.90       250\n",
      "   macro avg       0.90      0.90      0.90       250\n",
      "weighted avg       0.90      0.90      0.90       250\n",
      "\n"
     ]
    }
   ],
   "source": [
    "from sklearn.model_selection import train_test_split\n",
    "\n",
    "X_train, X_test, y_train, y_test = train_test_split(X,y, test_size=0.25, random_state=23)\n",
    "\n",
    "from sklearn.linear_model import LogisticRegression\n",
    "\n",
    "regressor=LogisticRegression()\n",
    "\n",
    "regressor.fit(X_train, y_train)\n",
    "\n",
    "y_pred=regressor.predict(X_test)\n",
    "\n",
    "from sklearn.metrics import accuracy_score, confusion_matrix, classification_report\n",
    "\n",
    "print(accuracy_score(y_pred=y_pred, y_true=y_test))\n",
    "print(confusion_matrix(y_pred=y_pred, y_true=y_test))\n",
    "print(classification_report(y_pred=y_pred, y_true=y_test))"
   ]
  },
  {
   "cell_type": "code",
   "execution_count": 11,
   "id": "0c51ba5a-f290-47e2-acda-b353833233a7",
   "metadata": {},
   "outputs": [
    {
     "data": {
      "image/png": "[encoded data removed]",
      "text/plain": [
       "<Figure size 640x480 with 1 Axes>"
      ]
     },
     "metadata": {},
     "output_type": "display_data"
    }
   ],
   "source": [
    "import matplotlib.pyplot as plt\n",
    "from sklearn.metrics import roc_curve, roc_auc_score\n",
    "\n",
    "#define metrics\n",
    "y_pred_proba = regressor.predict_proba(X_test)[::,1]\n",
    "fpr, tpr, _ = roc_curve(y_test,  y_pred_proba)\n",
    "auc = roc_auc_score(y_test, y_pred_proba)\n",
    "\n",
    "#create ROC curve\n",
    "plt.plot(fpr,tpr,label=\"AUC=\"+str(auc))\n",
    "plt.ylabel('True Positive Rate')\n",
    "plt.xlabel('False Positive Rate')\n",
    "plt.legend(loc=4)\n",
    "plt.show()"
   ]
  },
  {
   "cell_type": "markdown",
   "id": "da98c84b-ae0f-4df5-8091-3541d7217c45",
   "metadata": {},
   "source": [
    "The curve shows that our model predicts the data very well."
   ]
  },
  {
   "cell_type": "markdown",
   "id": "ede7fac7-0033-46e7-acfe-a979dcec20ff",
   "metadata": {},
   "source": []
  },
  {
   "cell_type": "markdown",
   "id": "75511caf-1359-472b-b0aa-961de7db38cd",
   "metadata": {},
   "source": [
    "Q5. What are some common techniques for feature selection in logistic regression? How do these\n",
    "techniques help improve the model's performance?\n",
    "\n",
    "Ans. Feature selection is a crucial step in building a logistic regression model. It involves choosing a subset of the most relevant and informative features (predictors) from our dataset while discarding less important or redundant ones. Proper feature selection can help improve a logistic regression model's performance by reducing overfitting, reducing computational complexity, and potentially enhancing interpretability. Here are some common techniques for feature selection in logistic regression:\n",
    "\n",
    "3. **L1 Regularization (Lasso)**: Lasso regularization adds a penalty term to the logistic regression objective function, encouraging some coefficients to be exactly zero. This effectively performs feature selection by setting some coefficients to zero, thus eliminating corresponding features.\n",
    "\n",
    "4. **Tree-based Methods**: Decision tree-based algorithms like Random Forest and Gradient Boosting can be used to rank feature importance. Features with higher importance scores are considered more relevant.\n",
    "   \n",
    "5. **Filter Methods**: These methods evaluate feature relevance independently of the chosen model. Common filter methods include correlation analysis, mutual information, and variance thresholding.\n",
    "\n",
    "7. **Feature Importance from Model Coefficients**: After fitting a logistic regression model, we can examine the coefficients of the features. Larger absolute coefficient values indicate more influential features.\n",
    "\n",
    "How these techniques help improve the model's performance:\n",
    "\n",
    "- **Reduced Overfitting**: By eliminating irrelevant or noisy features, feature selection reduces the risk of overfitting, where the model performs well on the training data but poorly on new, unseen data.\n",
    "\n",
    "- **Improved Model Interpretability**: A model with fewer features is often easier to interpret, making it more useful for explaining the relationships between predictors and the target variable.\n",
    "\n",
    "- **Reduced Computational Complexity**: Fewer features mean faster training and prediction times, which can be important for large datasets or real-time applications.\n",
    "\n",
    "- **Enhanced Generalization**: By focusing on the most informative features, feature selection can improve the model's ability to generalize patterns to new data.\n"
   ]
  },
  {
   "cell_type": "markdown",
   "id": "2dc3aa0a-761d-4a35-9cd1-041411a214d8",
   "metadata": {},
   "source": []
  },
  {
   "cell_type": "markdown",
   "id": "0f00fcda-b971-4a0c-8b36-580e335cacd3",
   "metadata": {},
   "source": [
    "Q6. How can you handle imbalanced datasets in logistic regression? What are some strategies for dealing\n",
    "with class imbalance?\n",
    "\n",
    "Ans. Handling imbalanced datasets in logistic regression or any other machine learning model is crucial because when one class significantly outnumbers the other, the model tends to be biased towards the majority class. This can lead to poor performance, where the minority class is often misclassified. Here are some strategies for dealing with class imbalance in logistic regression:\n",
    "\n",
    "1. **Resampling Techniques**:\n",
    "   - **Oversampling**: This involves increasing the number of instances in the minority class by duplicating or generating synthetic samples. Techniques like SMOTE (Synthetic Minority Over-sampling Technique) create synthetic data points to balance the class distribution.\n",
    "   - **Undersampling**: Undersampling reduces the number of instances in the majority class to match the minority class. While it reduces the dataset size, it may result in information loss.\n",
    "\n",
    "2. **Weighted Loss Function**: Logistic regression allows us to assign different weights to classes. By assigning higher weights to the minority class, we can make the model more sensitive to it. Many machine learning libraries, like scikit-learn, provide an option to specify class weights.\n",
    "\n",
    "3. **Algorithmic Approaches**: Some machine learning algorithms are inherently robust to class imbalance. For instance, decision tree-based methods like Random Forest can handle imbalanced datasets better due to their ability to consider feature importance and make more balanced splits.\n",
    "\n",
    "7. **Collect More Data**: If feasible, collecting more data for the minority class can help balance the dataset. However, this may not always be possible or cost-effective.\n",
    "\n",
    "9. **Threshold Adjustment**: Experiment with different probability thresholds for classification. By adjusting the threshold, you can trade off precision and recall to suit your specific application's needs.\n"
   ]
  },
  {
   "cell_type": "markdown",
   "id": "6073bf5e-d428-4426-8edf-0536ff046138",
   "metadata": {},
   "source": []
  },
  {
   "cell_type": "markdown",
   "id": "107db66a-d854-4076-831a-bf7c4f132be9",
   "metadata": {},
   "source": [
    "Q7. Can you discuss some common issues and challenges that may arise when implementing logistic\n",
    "regression, and how they can be addressed? For example, what can be done if there is multicollinearity\n",
    "among the independent variables?\n",
    "\n",
    "Ans. Implementing logistic regression can come with various challenges and issues. Here are some common ones and strategies to address them:\n",
    "\n",
    "1. **Multicollinearity**:\n",
    "   - **Issue**: Multicollinearity occurs when two or more independent variables in the logistic regression model are highly correlated with each other. This can make it challenging to determine the individual effect of each variable on the target.\n",
    "   - **Solution**: \n",
    "     - Identify and assess the degree of multicollinearity using correlation matrices. Variables with high collinearity may need to be removed or combined.\n",
    "     - If retaining all variables is necessary, consider regularization techniques like L2 regularization (Ridge) or L1 regularization (Lasso) to mitigate multicollinearity by shrinking coefficients.\n",
    "\n",
    "2. **Overfitting**:\n",
    "   - **Issue**: Overfitting occurs when the logistic regression model captures noise in the training data, resulting in poor generalization to unseen data.\n",
    "   - **Solution**:\n",
    "     - Use regularization techniques like L1 or L2 regularization to penalize large coefficients, preventing the model from fitting the noise in the data.\n",
    "     - Employ cross-validation to assess model performance and select hyperparameters, such as the regularization strength.\n",
    "     - Collect more data if possible, as larger datasets can help reduce overfitting.\n",
    "\n",
    "3. **Class Imbalance**:\n",
    "   - **Issue**: When dealing with imbalanced datasets, logistic regression may bias predictions toward the majority class.\n",
    "   - **Solution**:\n",
    "     - Implement strategies for dealing with class imbalance, such as resampling techniques (oversampling or undersampling), weighted loss functions, or ensemble methods.\n",
    "     - Choose appropriate evaluation metrics like precision, recall, F1-score, or area under the Precision-Recall curve to better assess model performance.\n",
    "\n",
    "4. **Non-Linear Relationships**:\n",
    "   - **Issue**: Logistic regression assumes a linear relationship between independent variables and the log-odds of the target variable. If relationships are non-linear, the model may perform poorly.\n",
    "   - **Solution**:\n",
    "     - Transform independent variables or create polynomial features to capture non-linear relationships.\n",
    "     - Consider using more complex models, such as decision trees or nonlinear regression, if logistic regression cannot adequately capture the underlying relationships.\n",
    "\n",
    "5. **Outliers**:\n",
    "   - **Issue**: Outliers can have a significant impact on logistic regression coefficients and predictions.\n",
    "   - **Solution**:\n",
    "     - Identify and handle outliers by visual inspection, statistical tests, or using robust regression techniques.\n",
    "     - Consider using robust loss functions, such as Huber loss, which are less sensitive to outliers.\n",
    "\n",
    "6. **Feature Selection**:\n",
    "   - **Issue**: Selecting the right set of features is critical for model performance and interpretability.\n",
    "   - **Solution**:\n",
    "     - Use feature selection techniques to identify and retain the most relevant features while discarding less informative ones.\n",
    "     - Experiment with different feature selection methods like recursive feature elimination (RFE) or feature importance from tree-based models.\n",
    "\n",
    "7. **Sample Size**:\n",
    "   - **Issue**: Logistic regression models may require a larger sample size to produce stable and reliable results, particularly when dealing with many predictors.\n",
    "   - **Solution**: If increasing the sample size is not possible, consider reducing the number of predictors through feature selection or dimensionality reduction techniques like PCA (Principal Component Analysis).\n"
   ]
  },
  {
   "cell_type": "markdown",
   "id": "c718bb95-0bc5-45ff-9ca1-dabd50cfd3fa",
   "metadata": {},
   "source": []
  }
 ],
 "metadata": {
  "kernelspec": {
   "display_name": "Python 3 (ipykernel)",
   "language": "python",
   "name": "python3"
  },
  "language_info": {
   "codemirror_mode": {
    "name": "ipython",
    "version": 3
   },
   "file_extension": ".py",
   "mimetype": "text/x-python",
   "name": "python",
   "nbconvert_exporter": "python",
   "pygments_lexer": "ipython3",
   "version": "3.10.8"
  }
 },
 "nbformat": 4,
 "nbformat_minor": 5
}
